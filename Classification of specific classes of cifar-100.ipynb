{
 "cells": [
  {
   "cell_type": "markdown",
   "metadata": {},
   "source": [
    "<center><h1>How to classify by using of specific classes of cifar-100? </h1></center>"
   ]
  },
  {
   "cell_type": "code",
   "execution_count": null,
   "metadata": {},
   "outputs": [],
   "source": [
    "import keras\n",
    "from keras.preprocessing.image import ImageDataGenerator\n",
    "from keras.models import Sequential\n",
    "from keras.layers import Dense, Dropout, Flatten\n",
    "from keras.layers import Conv2D, MaxPooling2D, Activation\n",
    "import matplotlib.pyplot as plt\n",
    "from keras import optimizers\n",
    "from sklearn.preprocessing import LabelBinarizer\n",
    "from sklearn.model_selection import train_test_split\n",
    "from sklearn.metrics import classification_report\n",
    "from imutils import paths\n",
    "import matplotlib.pyplot as plt\n",
    "import numpy as np\n",
    "import cv2\n",
    "import os\n",
    "from keras.datasets import cifar100"
   ]
  },
  {
   "cell_type": "markdown",
   "metadata": {},
   "source": [
    "# preparing Dataset "
   ]
  },
  {
   "cell_type": "code",
   "execution_count": null,
   "metadata": {},
   "outputs": [],
   "source": [
    "(x_train,y_train),(x_test, y_test)=cifar100.load_data()"
   ]
  },
  {
   "cell_type": "code",
   "execution_count": null,
   "metadata": {},
   "outputs": [],
   "source": [
    "os.mkdir('images')\n",
    "os.mkdir('images\\\\train')\n",
    "os.mkdir('images\\\\validation')"
   ]
  },
  {
   "cell_type": "markdown",
   "metadata": {},
   "source": [
    "# Classes:  0 = apple, 13= bus, 36=hamster, 57 = pear, 73 = shark"
   ]
  },
  {
   "cell_type": "code",
   "execution_count": null,
   "metadata": {},
   "outputs": [],
   "source": [
    "for i in range(100):\n",
    "    if i==0 or i==13 or i==36 or i==57 or i==73 :\n",
    "        path=os.path.join('images\\\\train',str(i))\n",
    "        os.mkdir(path)\n",
    "        path=os.path.join('images\\\\validation',str(i))\n",
    "        os.mkdir(path)"
   ]
  },
  {
   "cell_type": "markdown",
   "metadata": {},
   "source": [
    "# train folder"
   ]
  },
  {
   "cell_type": "code",
   "execution_count": null,
   "metadata": {},
   "outputs": [],
   "source": [
    "import matplotlib.pyplot as plt\n",
    "for i in range(500):\n",
    "    if int(y_train[i])==0:\n",
    "        path='images/train/0/'+str(i)+'.png'\n",
    "        plt.imsave(path,x_train[i])\n",
    "    if int(y_train[i])==13:\n",
    "        path='images/train/13/'+str(i)+'.png'\n",
    "        plt.imsave(path,x_train[i])\n",
    "    if int(y_train[i])==36:\n",
    "        path='images/train/36/'+str(i)+'.png'\n",
    "        plt.imsave(path,x_train[i])\n",
    "    if int(y_train[i])==57:\n",
    "        path='images/train/57/'+str(i)+'.png'\n",
    "        plt.imsave(path,x_train[i])\n",
    "    if int(y_train[i])==73:\n",
    "        path='images/train/73/'+str(i)+'.png'\n",
    "        plt.imsave(path,x_train[i]) "
   ]
  },
  {
   "cell_type": "markdown",
   "metadata": {},
   "source": [
    "# validation folder"
   ]
  },
  {
   "cell_type": "code",
   "execution_count": null,
   "metadata": {},
   "outputs": [],
   "source": [
    "for i in range(100):\n",
    "    if int(y_test[i])==0:\n",
    "        path='images/validation/0/'+str(i)+'.png'\n",
    "        plt.imsave(path,x_test[i])\n",
    "    if int(y_test[i])==13:\n",
    "        path='images/validation/13/'+str(i)+'.png'\n",
    "        plt.imsave(path,x_test[i])\n",
    "    if int(y_test[i])==36:\n",
    "        path='images/validation/36/'+str(i)+'.png'\n",
    "        plt.imsave(path,x_test[i])\n",
    "    if int(y_test[i])==57:\n",
    "        path='images/validation/57/'+str(i)+'.png'\n",
    "        plt.imsave(path,x_test[i])\n",
    "    if int(y_test[i])==73:\n",
    "        path='images/validation/73/'+str(i)+'.png'\n",
    "        plt.imsave(path,x_test[i])"
   ]
  },
  {
   "cell_type": "markdown",
   "metadata": {},
   "source": [
    "# Training Dataset"
   ]
  },
  {
   "cell_type": "code",
   "execution_count": 3,
   "metadata": {},
   "outputs": [],
   "source": [
    "train_dir = './images/train'\n",
    "validation_dir = './images/validation'"
   ]
  },
  {
   "cell_type": "code",
   "execution_count": 4,
   "metadata": {},
   "outputs": [],
   "source": [
    "from keras import layers\n",
    "from keras import models\n",
    "from keras import optimizers"
   ]
  },
  {
   "cell_type": "code",
   "execution_count": 5,
   "metadata": {},
   "outputs": [
    {
     "name": "stdout",
     "output_type": "stream",
     "text": [
      "WARNING:tensorflow:From C:\\Users\\HamidullahTurkmen\\.conda\\envs\\DeepLearning\\lib\\site-packages\\tensorflow\\python\\framework\\op_def_library.py:263: colocate_with (from tensorflow.python.framework.ops) is deprecated and will be removed in a future version.\n",
      "Instructions for updating:\n",
      "Colocations handled automatically by placer.\n",
      "WARNING:tensorflow:From C:\\Users\\HamidullahTurkmen\\.conda\\envs\\DeepLearning\\lib\\site-packages\\keras\\backend\\tensorflow_backend.py:3445: calling dropout (from tensorflow.python.ops.nn_ops) with keep_prob is deprecated and will be removed in a future version.\n",
      "Instructions for updating:\n",
      "Please use `rate` instead of `keep_prob`. Rate should be set to `rate = 1 - keep_prob`.\n",
      "_________________________________________________________________\n",
      "Layer (type)                 Output Shape              Param #   \n",
      "=================================================================\n",
      "conv2d_1 (Conv2D)            (None, 32, 32, 32)        896       \n",
      "_________________________________________________________________\n",
      "activation_1 (Activation)    (None, 32, 32, 32)        0         \n",
      "_________________________________________________________________\n",
      "max_pooling2d_1 (MaxPooling2 (None, 16, 16, 32)        0         \n",
      "_________________________________________________________________\n",
      "conv2d_2 (Conv2D)            (None, 16, 16, 64)        18496     \n",
      "_________________________________________________________________\n",
      "activation_2 (Activation)    (None, 16, 16, 64)        0         \n",
      "_________________________________________________________________\n",
      "max_pooling2d_2 (MaxPooling2 (None, 8, 8, 64)          0         \n",
      "_________________________________________________________________\n",
      "conv2d_3 (Conv2D)            (None, 8, 8, 64)          36928     \n",
      "_________________________________________________________________\n",
      "activation_3 (Activation)    (None, 8, 8, 64)          0         \n",
      "_________________________________________________________________\n",
      "max_pooling2d_3 (MaxPooling2 (None, 4, 4, 64)          0         \n",
      "_________________________________________________________________\n",
      "conv2d_4 (Conv2D)            (None, 4, 4, 128)         73856     \n",
      "_________________________________________________________________\n",
      "activation_4 (Activation)    (None, 4, 4, 128)         0         \n",
      "_________________________________________________________________\n",
      "max_pooling2d_4 (MaxPooling2 (None, 2, 2, 128)         0         \n",
      "_________________________________________________________________\n",
      "flatten_1 (Flatten)          (None, 512)               0         \n",
      "_________________________________________________________________\n",
      "dense_1 (Dense)              (None, 256)               131328    \n",
      "_________________________________________________________________\n",
      "activation_5 (Activation)    (None, 256)               0         \n",
      "_________________________________________________________________\n",
      "dropout_1 (Dropout)          (None, 256)               0         \n",
      "_________________________________________________________________\n",
      "dense_2 (Dense)              (None, 5)                 1285      \n",
      "=================================================================\n",
      "Total params: 262,789\n",
      "Trainable params: 262,789\n",
      "Non-trainable params: 0\n",
      "_________________________________________________________________\n"
     ]
    }
   ],
   "source": [
    "model = models.Sequential()\n",
    "model.add(layers.Conv2D(32, (3, 3), strides=(1, 1), padding='same', input_shape=(32, 32, 3)))\n",
    "model.add(layers.Activation('relu')) # this is just different syntax for specifying the activation function\n",
    "model.add(layers.MaxPooling2D(pool_size=(2, 2)))\n",
    "#padding='valid'\n",
    "model.add(layers.Conv2D(64, (3, 3), strides=(1, 1), padding='same'))\n",
    "model.add(layers.Activation('relu'))\n",
    "model.add(layers.MaxPooling2D(pool_size=(2, 2)))\n",
    "\n",
    "model.add(layers.Conv2D(64, (3, 3), strides=(1, 1), padding='same'))\n",
    "model.add(layers.Activation('relu'))\n",
    "model.add(layers.MaxPooling2D(pool_size=(2, 2)))\n",
    "\n",
    "model.add(layers.Conv2D(128, (3, 3), strides=(1, 1), padding='same'))\n",
    "model.add(layers.Activation('relu'))\n",
    "model.add(layers.MaxPooling2D(pool_size=(2, 2)))\n",
    "\n",
    "\n",
    "model.add(layers.Flatten())\n",
    "model.add(layers.Dense(256))\n",
    "model.add(layers.Activation('relu'))\n",
    "model.add(layers.Dropout(0.2))\n",
    "model.add(layers.Dense(5, activation='softmax'))\n",
    "\n",
    "model.compile(loss='categorical_crossentropy',optimizer=optimizers.RMSprop(lr=1e-4),metrics=['acc'])#RMSprop(lr=1e-4)\n",
    "model.summary()"
   ]
  },
  {
   "cell_type": "code",
   "execution_count": 6,
   "metadata": {},
   "outputs": [
    {
     "name": "stdout",
     "output_type": "stream",
     "text": [
      "Found 2000 images belonging to 5 classes.\n",
      "Found 500 images belonging to 5 classes.\n"
     ]
    }
   ],
   "source": [
    "from keras.preprocessing.image import ImageDataGenerator\n",
    "# All images will be rescaled by 1./255\n",
    "train_datagen = ImageDataGenerator(rescale=1./255)\n",
    "\n",
    "test_datagen = ImageDataGenerator(rescale=1./255)\n",
    "\n",
    "train_generator = train_datagen.flow_from_directory(\n",
    "        # This is the target directory\n",
    "        train_dir,\n",
    "        # All images will be resized to 150x150\n",
    "        target_size=(32, 32),\n",
    "        #No. of images to be yielded from the generator per batch.\n",
    "        batch_size=20,\n",
    "        # Since we use binary_crossentropy loss, \n",
    "        #we need binary labels\n",
    "        class_mode='categorical')\n",
    "\n",
    "validation_generator = test_datagen.flow_from_directory(\n",
    "        validation_dir,\n",
    "        target_size=(32, 32),\n",
    "        batch_size=20,\n",
    "        class_mode='categorical')"
   ]
  },
  {
   "cell_type": "code",
   "execution_count": null,
   "metadata": {},
   "outputs": [],
   "source": []
  },
  {
   "cell_type": "code",
   "execution_count": 7,
   "metadata": {},
   "outputs": [
    {
     "name": "stdout",
     "output_type": "stream",
     "text": [
      "WARNING:tensorflow:From C:\\Users\\HamidullahTurkmen\\.conda\\envs\\DeepLearning\\lib\\site-packages\\tensorflow\\python\\ops\\math_ops.py:3066: to_int32 (from tensorflow.python.ops.math_ops) is deprecated and will be removed in a future version.\n",
      "Instructions for updating:\n",
      "Use tf.cast instead.\n",
      "Epoch 1/30\n",
      "200/200 [==============================] - 5s 26ms/step - loss: 1.2375 - acc: 0.4730 - val_loss: 1.0272 - val_acc: 0.6000\n",
      "Epoch 2/30\n",
      "200/200 [==============================] - 2s 10ms/step - loss: 0.9500 - acc: 0.6128 - val_loss: 0.8442 - val_acc: 0.6940\n",
      "Epoch 3/30\n",
      "200/200 [==============================] - 2s 9ms/step - loss: 0.8377 - acc: 0.6645 - val_loss: 0.7708 - val_acc: 0.7020\n",
      "Epoch 4/30\n",
      "200/200 [==============================] - 2s 9ms/step - loss: 0.7786 - acc: 0.6958 - val_loss: 0.7495 - val_acc: 0.7300\n",
      "Epoch 5/30\n",
      "200/200 [==============================] - 2s 9ms/step - loss: 0.7203 - acc: 0.7165 - val_loss: 0.7443 - val_acc: 0.7280\n",
      "Epoch 6/30\n",
      "200/200 [==============================] - 2s 9ms/step - loss: 0.6825 - acc: 0.7358 - val_loss: 0.6516 - val_acc: 0.7560\n",
      "Epoch 7/30\n",
      "200/200 [==============================] - 2s 9ms/step - loss: 0.6418 - acc: 0.7525 - val_loss: 0.6335 - val_acc: 0.7720\n",
      "Epoch 8/30\n",
      "200/200 [==============================] - 2s 9ms/step - loss: 0.6033 - acc: 0.7740 - val_loss: 0.5986 - val_acc: 0.7780\n",
      "Epoch 9/30\n",
      "200/200 [==============================] - 2s 10ms/step - loss: 0.5682 - acc: 0.7913 - val_loss: 0.6111 - val_acc: 0.7680\n",
      "Epoch 10/30\n",
      "200/200 [==============================] - 2s 9ms/step - loss: 0.5412 - acc: 0.7958 - val_loss: 0.5486 - val_acc: 0.8000\n",
      "Epoch 11/30\n",
      "200/200 [==============================] - 2s 9ms/step - loss: 0.5054 - acc: 0.8130 - val_loss: 0.6127 - val_acc: 0.7700\n",
      "Epoch 12/30\n",
      "200/200 [==============================] - 2s 9ms/step - loss: 0.4856 - acc: 0.8130 - val_loss: 0.5976 - val_acc: 0.7780\n",
      "Epoch 13/30\n",
      "200/200 [==============================] - 2s 9ms/step - loss: 0.4646 - acc: 0.8285 - val_loss: 0.5014 - val_acc: 0.8220\n",
      "Epoch 14/30\n",
      "200/200 [==============================] - 2s 9ms/step - loss: 0.4396 - acc: 0.8400 - val_loss: 0.5306 - val_acc: 0.7980\n",
      "Epoch 15/30\n",
      "200/200 [==============================] - 2s 9ms/step - loss: 0.4270 - acc: 0.8465 - val_loss: 0.5487 - val_acc: 0.8020\n",
      "Epoch 16/30\n",
      "200/200 [==============================] - 2s 9ms/step - loss: 0.4116 - acc: 0.8503 - val_loss: 0.4833 - val_acc: 0.8320\n",
      "Epoch 17/30\n",
      "200/200 [==============================] - 2s 9ms/step - loss: 0.3910 - acc: 0.8612 - val_loss: 0.5189 - val_acc: 0.8140\n",
      "Epoch 18/30\n",
      "200/200 [==============================] - 2s 9ms/step - loss: 0.3713 - acc: 0.8677 - val_loss: 0.5023 - val_acc: 0.8080\n",
      "Epoch 19/30\n",
      "200/200 [==============================] - 2s 9ms/step - loss: 0.3691 - acc: 0.8647 - val_loss: 0.4721 - val_acc: 0.8220\n",
      "Epoch 20/30\n",
      "200/200 [==============================] - 2s 9ms/step - loss: 0.3373 - acc: 0.8772 - val_loss: 0.5357 - val_acc: 0.8020\n",
      "Epoch 21/30\n",
      "200/200 [==============================] - 2s 9ms/step - loss: 0.3314 - acc: 0.8772 - val_loss: 0.4763 - val_acc: 0.8340\n",
      "Epoch 22/30\n",
      "200/200 [==============================] - 2s 9ms/step - loss: 0.3116 - acc: 0.8877 - val_loss: 0.4685 - val_acc: 0.8500\n",
      "Epoch 23/30\n",
      "200/200 [==============================] - 2s 9ms/step - loss: 0.2963 - acc: 0.8940 - val_loss: 0.4532 - val_acc: 0.8400\n",
      "Epoch 24/30\n",
      "200/200 [==============================] - 2s 9ms/step - loss: 0.2818 - acc: 0.8970 - val_loss: 0.4519 - val_acc: 0.8320\n",
      "Epoch 25/30\n",
      "200/200 [==============================] - 2s 9ms/step - loss: 0.2713 - acc: 0.9045 - val_loss: 0.4654 - val_acc: 0.8400\n",
      "Epoch 26/30\n",
      "200/200 [==============================] - 2s 9ms/step - loss: 0.2572 - acc: 0.9080 - val_loss: 0.4660 - val_acc: 0.8340\n",
      "Epoch 27/30\n",
      "200/200 [==============================] - 2s 9ms/step - loss: 0.2411 - acc: 0.9120 - val_loss: 0.4363 - val_acc: 0.8480\n",
      "Epoch 28/30\n",
      "200/200 [==============================] - 2s 9ms/step - loss: 0.2236 - acc: 0.9222 - val_loss: 0.4932 - val_acc: 0.8280\n",
      "Epoch 29/30\n",
      "200/200 [==============================] - 2s 9ms/step - loss: 0.2116 - acc: 0.9240 - val_loss: 0.4285 - val_acc: 0.8540\n",
      "Epoch 30/30\n",
      "200/200 [==============================] - 2s 9ms/step - loss: 0.1939 - acc: 0.9380 - val_loss: 0.4642 - val_acc: 0.8400\n"
     ]
    }
   ],
   "source": [
    "history = model.fit_generator(\n",
    "      train_generator,\n",
    "      steps_per_epoch=200,\n",
    "      epochs=30,\n",
    "      validation_data=validation_generator,\n",
    "      validation_steps=50)"
   ]
  },
  {
   "cell_type": "code",
   "execution_count": 8,
   "metadata": {},
   "outputs": [
    {
     "data": {
      "image/png": "[encoded data removed]",
      "text/plain": [
       "<Figure size 432x288 with 1 Axes>"
      ]
     },
     "metadata": {
      "needs_background": "light"
     },
     "output_type": "display_data"
    },
    {
     "data": {
      "image/png": "[encoded data removed]",
      "text/plain": [
       "<Figure size 432x288 with 1 Axes>"
      ]
     },
     "metadata": {
      "needs_background": "light"
     },
     "output_type": "display_data"
    }
   ],
   "source": [
    "acc = history.history['acc']\n",
    "val_acc = history.history['val_acc']\n",
    "loss = history.history['loss']\n",
    "val_loss = history.history['val_loss']\n",
    "\n",
    "epochs = range(len(acc))\n",
    "\n",
    "plt.plot(epochs, acc, 'r-', label='Training acc')\n",
    "plt.plot(epochs, val_acc, 'b-', label='Validation acc')\n",
    "plt.title('Training and validation accuracy')\n",
    "plt.legend()\n",
    "\n",
    "plt.figure()\n",
    "\n",
    "plt.plot(epochs, loss, 'r-', label='Training loss')\n",
    "plt.plot(epochs, val_loss, 'b', label='Validation loss')\n",
    "plt.title('Training and validation loss')\n",
    "plt.legend()\n",
    "plt.show()"
   ]
  },
  {
   "cell_type": "markdown",
   "metadata": {},
   "source": [
    "# Test and Confusion Matrix"
   ]
  },
  {
   "cell_type": "code",
   "execution_count": 9,
   "metadata": {},
   "outputs": [],
   "source": [
    "test_path = './images/test'"
   ]
  },
  {
   "cell_type": "code",
   "execution_count": 10,
   "metadata": {},
   "outputs": [],
   "source": [
    "import sklearn\n",
    "from sklearn.metrics import classification_report, confusion_matrix\n",
    "import numpy as np"
   ]
  },
  {
   "cell_type": "code",
   "execution_count": 11,
   "metadata": {},
   "outputs": [],
   "source": [
    "import itertools\n",
    "\n",
    "def plot_confusion_matrix(cm, classes,\n",
    "                          title='Confusion matrix',\n",
    "                          cmap=plt.cm.Blues):\n",
    "    \"\"\"\n",
    "    This function prints and plots the confusion matrix.\n",
    "    \"\"\"\n",
    "    plt.imshow(cm, interpolation='nearest', cmap=cmap)\n",
    "    plt.title(title)\n",
    "    plt.colorbar()\n",
    "    tick_marks = np.arange(len(classes))\n",
    "    plt.xticks(tick_marks, classes, rotation=45)\n",
    "    plt.yticks(tick_marks, classes)\n",
    "\n",
    "    print(cm)\n",
    "\n",
    "    thresh = cm.max() / 2.\n",
    "    for i, j in itertools.product(range(cm.shape[0]), range(cm.shape[1])):\n",
    "        plt.text(j, i, cm[i, j],\n",
    "                 horizontalalignment=\"center\",\n",
    "                 color=\"white\" if cm[i, j] > thresh else \"black\")\n",
    "\n",
    "    plt.tight_layout()\n",
    "    plt.ylabel('True label')\n",
    "    plt.xlabel('Predicted label')"
   ]
  },
  {
   "cell_type": "code",
   "execution_count": 12,
   "metadata": {},
   "outputs": [
    {
     "name": "stdout",
     "output_type": "stream",
     "text": [
      "Found 500 images belonging to 5 classes.\n",
      "\n",
      "\n",
      "\n",
      "Classification Report\n",
      "\n",
      "              precision    recall  f1-score   support\n",
      "\n",
      "       apple       0.75      0.86      0.80       100\n",
      "         bus       0.95      0.88      0.91       100\n",
      "     hamster       0.79      0.91      0.85       100\n",
      "        pear       0.74      0.65      0.69       100\n",
      "       shark       0.98      0.87      0.92       100\n",
      "\n",
      "    accuracy                           0.83       500\n",
      "   macro avg       0.84      0.83      0.83       500\n",
      "weighted avg       0.84      0.83      0.83       500\n",
      "\n"
     ]
    }
   ],
   "source": [
    "test_datagen = ImageDataGenerator(rescale=1./255)\n",
    "test_generator = test_datagen.flow_from_directory(\n",
    "        test_path,\n",
    "        target_size=(32, 32),\n",
    "        batch_size=5,\n",
    "        class_mode='categorical',\n",
    "        shuffle=False)\n",
    "\n",
    "class_labels = test_generator.class_indices\n",
    "class_labels = {v: k for k, v in class_labels.items()}\n",
    "classes = list(class_labels.values())\n",
    "\n",
    "\n",
    "nb_validation_samples = 495\n",
    "batch_size = 5\n",
    "#Confution Matrix and Classification Report\n",
    "Y_pred = model.predict_generator(test_generator, nb_validation_samples // batch_size+1)\n",
    "y_pred = np.argmax(Y_pred, axis=1)\n",
    "\n",
    "#print('Confusion Matrix')\n",
    "#print(confusion_matrix(test_generator.classes, y_pred))\n",
    "print(\"\\n\\n\")\n",
    "print('Classification Report\\n')\n",
    "target_names = ['apple', 'bus', 'hamster', 'pear', 'shark']  #list(class_labels.values())\n",
    "print(classification_report(test_generator.classes, y_pred, target_names=target_names))"
   ]
  },
  {
   "cell_type": "code",
   "execution_count": 13,
   "metadata": {},
   "outputs": [],
   "source": [
    "import itertools\n",
    "\n",
    "def plot_confusion_matrix(cm, classes,\n",
    "                          title='Confusion matrix',\n",
    "                          cmap=plt.cm.Blues):\n",
    "    \"\"\"\n",
    "    This function prints and plots the confusion matrix.\n",
    "    \"\"\"\n",
    "    plt.imshow(cm, interpolation='nearest', cmap=cmap)\n",
    "    plt.title(title)\n",
    "    plt.colorbar()\n",
    "    tick_marks = np.arange(len(classes))\n",
    "    plt.xticks(tick_marks, classes, rotation=45)\n",
    "    plt.yticks(tick_marks, classes)\n",
    "\n",
    "    #print(cm)\n",
    "\n",
    "    thresh = cm.max() / 2.\n",
    "    for i, j in itertools.product(range(cm.shape[0]), range(cm.shape[1])):\n",
    "        plt.text(j, i, cm[i, j],\n",
    "                 horizontalalignment=\"center\",\n",
    "                 color=\"white\" if cm[i, j] > thresh else \"black\")\n",
    "\n",
    "    plt.tight_layout()\n",
    "    plt.ylabel('True label')\n",
    "    plt.xlabel('Predicted label')"
   ]
  },
  {
   "cell_type": "code",
   "execution_count": 14,
   "metadata": {},
   "outputs": [],
   "source": [
    "cm = confusion_matrix(test_generator.classes, y_pred)\n",
    "np.set_printoptions(precision=2)"
   ]
  },
  {
   "cell_type": "code",
   "execution_count": 15,
   "metadata": {},
   "outputs": [
    {
     "data": {
      "image/png": "[encoded data removed]",
      "text/plain": [
       "<Figure size 504x504 with 2 Axes>"
      ]
     },
     "metadata": {
      "needs_background": "light"
     },
     "output_type": "display_data"
    }
   ],
   "source": [
    "plt.figure(figsize=(7,7))\n",
    "plot_confusion_matrix(cm, classes=target_names,\n",
    "                      title='Confusion matrix, without normalization')"
   ]
  },
  {
   "cell_type": "code",
   "execution_count": 22,
   "metadata": {},
   "outputs": [
    {
     "name": "stdout",
     "output_type": "stream",
     "text": [
      "data batch shape: (20, 32, 32, 3)\n",
      "labels batch shape: (20, 5)\n"
     ]
    }
   ],
   "source": [
    "for data_batch, labels_batch in train_generator:\n",
    "    print('data batch shape:', data_batch.shape)\n",
    "    print('labels batch shape:', labels_batch.shape)\n",
    "    break"
   ]
  },
  {
   "cell_type": "code",
   "execution_count": null,
   "metadata": {},
   "outputs": [],
   "source": [
    "\"\"\"# plot first few images\n",
    "for i in range(3):\n",
    "    plt.subplot(330 + 1 + i)\n",
    "    plt.imshow(data_batch[i], cmap=plt.get_cmap('gray'))\n",
    "plt.show()\"\"\""
   ]
  }
 ],
 "metadata": {
  "kernelspec": {
   "display_name": "Python 3 (ipykernel)",
   "language": "python",
   "name": "python3"
  },
  "language_info": {
   "codemirror_mode": {
    "name": "ipython",
    "version": 3
   },
   "file_extension": ".py",
   "mimetype": "text/x-python",
   "name": "python",
   "nbconvert_exporter": "python",
   "pygments_lexer": "ipython3",
   "version": "3.7.6"
  }
 },
 "nbformat": 4,
 "nbformat_minor": 4
}
